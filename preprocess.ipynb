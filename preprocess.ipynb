{
 "cells": [
  {
   "cell_type": "markdown",
   "metadata": {},
   "source": [
    "# Preprocessing"
   ]
  },
  {
   "cell_type": "markdown",
   "metadata": {},
   "source": [
    "## download data"
   ]
  },
  {
   "cell_type": "code",
   "execution_count": 1,
   "metadata": {},
   "outputs": [],
   "source": [
    "# run this cell to download data!\n",
    "\n",
    "import os\n",
    "\n",
    "directory_path = \"data/00--raw/macro\"\n",
    "\n",
    "if not os.path.exists(directory_path) or not os.listdir(directory_path):\n",
    "    !python3 -m src.fetch.pipeline\n"
   ]
  },
  {
   "cell_type": "code",
   "execution_count": 2,
   "metadata": {},
   "outputs": [],
   "source": [
    "import pandas as pd\n",
    "from typing import *\n",
    "from src.preprocess.dataset import Dataset\n",
    "from src.preprocess.result import ResultData\n",
    "\n",
    "\n",
    "# Usage Example:\n",
    "\n",
    "dataset_names: Optional[List[str]]\n",
    "\n",
    "result_data = ResultData(\n",
    "    datadict = True, # Optional[Dict[str, pd.DataFrame]]\n",
    "    ml_ready = True, # Optional[pd.DataFrame]\n",
    "    metadata = True  # Optional[\"Metadata\"]\n",
    "    )\n",
    "\n",
    "dataset = Dataset()\n",
    "\n",
    "result_data = dataset.get(result_data)\n"
   ]
  },
  {
   "cell_type": "code",
   "execution_count": 3,
   "metadata": {},
   "outputs": [
    {
     "name": "stdout",
     "output_type": "stream",
     "text": [
      "research_and_development_expenditure_percent_of_gdp\n",
      "individuals_using_the_internet_percent_of_population\n",
      "net_trade_in_goods_and_services_current_usd\n",
      "fdi_net_inflows_current_usd\n",
      "area\n",
      "education_expenditures\n",
      "education_years\n",
      "services_value_added_percent_of_gdp\n",
      "manufacturing_value_added_percent_of_gdp\n",
      "net_official_development_assistance_received_current_usd\n",
      "total_population\n",
      "poverty_headcount_ratio_at_1.90_a_day_2011_ppp_percent_of_population\n",
      "economic_activity\n",
      "life_expectancy_at_birth_total_years\n",
      "gdp_per_person_employed_constant_2011_ppp_usd\n",
      "population_size\n",
      "gini_income_inequality\n",
      "petroleum_energy_production\n",
      "energy_use_kg_of_oil_equivalent_per_capita\n",
      "hydro_electric_energy_production\n",
      "gas_energy_production\n",
      "coal_energy_production\n",
      "consumer_price_index_change\n",
      "unemployment_rate_percent_of_total_labor_force\n",
      "gdp_current_usd\n",
      "political_stability_and_absence_of_violence_terrorism_percentile_rank\n"
     ]
    }
   ],
   "source": [
    "# dictionary with key=names : value=dataframe\n",
    "\n",
    "\"\"\"\n",
    "{\"feature1\" : dataframe}\n",
    "\n",
    "frames in format:\n",
    "year | country1 | country2 ...\n",
    "2019 | value1   | value2   \n",
    "\"\"\"\n",
    "\n",
    "datadict : Dict[str, pd.DataFrame] = result_data.datadict\n",
    "\n",
    "for key in list(datadict.keys()): \n",
    "    print(f\"{key}\") "
   ]
  },
  {
   "cell_type": "code",
   "execution_count": 4,
   "metadata": {},
   "outputs": [
    {
     "name": "stdout",
     "output_type": "stream",
     "text": [
      "|    | date                | country                     |   research_and_development_expenditure_percent_of_gdp |   individuals_using_the_internet_percent_of_population |   net_trade_in_goods_and_services_current_usd |   fdi_net_inflows_current_usd |   area |   education_expenditures |   education_years |   services_value_added_percent_of_gdp |   manufacturing_value_added_percent_of_gdp |   net_official_development_assistance_received_current_usd |   total_population |   poverty_headcount_ratio_at_1.90_a_day_2011_ppp_percent_of_population |   economic_activity |   life_expectancy_at_birth_total_years |   gdp_per_person_employed_constant_2011_ppp_usd |   population_size |   gini_income_inequality |   petroleum_energy_production |   energy_use_kg_of_oil_equivalent_per_capita |   hydro_electric_energy_production |   gas_energy_production |   coal_energy_production |   consumer_price_index_change |   unemployment_rate_percent_of_total_labor_force |   gdp_current_usd |   political_stability_and_absence_of_violence_terrorism_percentile_rank |\n",
      "|---:|:--------------------|:----------------------------|------------------------------------------------------:|-------------------------------------------------------:|----------------------------------------------:|------------------------------:|-------:|-------------------------:|------------------:|--------------------------------------:|-------------------------------------------:|-----------------------------------------------------------:|-------------------:|-----------------------------------------------------------------------:|--------------------:|---------------------------------------:|------------------------------------------------:|------------------:|-------------------------:|------------------------------:|---------------------------------------------:|-----------------------------------:|------------------------:|-------------------------:|------------------------------:|-------------------------------------------------:|------------------:|------------------------------------------------------------------------:|\n",
      "|  0 | 1960-01-01 00:00:00 | afghanistan                 |                                                   nan |                                                    nan |                                  -1.55555e+07 |                           nan |    nan |                      nan |               nan |                                   nan |                                        nan |                                                 1.718e+07  |        9.03504e+06 |                                                                    nan |                 nan |                                32.799  |                                             nan |       9.03504e+06 |                      nan |                           nan |                                          nan |                                nan |                     nan |                      nan |                           nan |                                              nan |     nan           |                                                                     nan |\n",
      "|  1 | 1960-01-01 00:00:00 | africa eastern and southern |                                                   nan |                                                    nan |                                 nan           |                           nan |    nan |                      nan |               nan |                                   nan |                                        nan |                                               nan          |        1.30072e+08 |                                                                    nan |                 nan |                                44.1693 |                                             nan |       1.30072e+08 |                      nan |                           nan |                                          nan |                                nan |                     nan |                      nan |                           nan |                                              nan |       2.42106e+10 |                                                                     nan |\n",
      "|  2 | 1960-01-01 00:00:00 | africa western and central  |                                                   nan |                                                    nan |                                 nan           |                           nan |    nan |                      nan |               nan |                                   nan |                                        nan |                                               nan          |        9.76309e+07 |                                                                    nan |                 nan |                                37.7796 |                                             nan |       9.76309e+07 |                      nan |                           nan |                                          nan |                                nan |                     nan |                      nan |                           nan |                                              nan |       1.1905e+10  |                                                                     nan |\n",
      "|  3 | 1960-01-01 00:00:00 | albania                     |                                                   nan |                                                    nan |                                 nan           |                           nan |    nan |                      nan |               nan |                                   nan |                                        nan |                                               nan          |        1.6088e+06  |                                                                    nan |                 nan |                                56.413  |                                             nan |       1.6088e+06  |                      nan |                           nan |                                          nan |                                nan |                     nan |                      nan |                           nan |                                              nan |     nan           |                                                                     nan |\n",
      "|  4 | 1960-01-01 00:00:00 | algeria                     |                                                   nan |                                                    nan |                                  -7.65348e+08 |                           nan |    nan |                      nan |               nan |                                   nan |                                        nan |                                                 3.5505e+08 |        1.14249e+07 |                                                                    nan |                 nan |                                40.839  |                                             nan |       1.14249e+07 |                      nan |                           nan |                                          nan |                                nan |                     nan |                      nan |                           nan |                                              nan |       2.72362e+09 |                                                                     nan |\n"
     ]
    }
   ],
   "source": [
    "# single dataframe in format\n",
    "\"\"\"\n",
    "year country   |  feature1 |  feature2 ...\n",
    "2019 country1  |  value    |  value    ...\n",
    "2019 country2  |  value    |  value    ...\n",
    "2019 country3  |  value    |  value    ...\n",
    "...\n",
    "2020 country1  |  feature1 |  value    ...\n",
    "2020 country2  |  feature1 |  value    ...\n",
    "2020 country3  |  feature1 |  value    ...\n",
    "...\n",
    "\"\"\"\n",
    "\n",
    "\n",
    "ml_data : pd.DataFrame = result_data.ml_ready\n",
    "print(ml_data.head().to_markdown())"
   ]
  },
  {
   "cell_type": "code",
   "execution_count": 5,
   "metadata": {},
   "outputs": [
    {
     "name": "stdout",
     "output_type": "stream",
     "text": [
      "Matched: ['afghanistan', 'africa eastern and southern', 'africa western and central', 'albania', 'algeria', 'american samoa', 'andorra', 'angola', 'antigua and barbuda', 'arab world', 'argentina', 'armenia', 'aruba', 'australia', 'austria', 'azerbaijan', 'bahamas, the', 'bahrain', 'bangladesh', 'barbados', 'belarus', 'belgium', 'belize', 'benin', 'bermuda', 'bhutan', 'bolivia', 'bosnia and herzegovina', 'botswana', 'brazil', 'british virgin islands', 'brunei darussalam', 'bulgaria', 'burkina faso', 'burundi', 'cabo verde', 'cambodia', 'cameroon', 'canada', 'caribbean small states', 'cayman islands', 'central african republic', 'central europe and the baltics', 'chad', 'channel islands', 'chile', 'china', 'colombia', 'comoros', 'congo, dem. rep.', 'congo, rep.', 'costa rica', \"cote d'ivoire\", 'croatia', 'cuba', 'curacao', 'cyprus', 'czechia', 'denmark', 'djibouti', 'dominica', 'dominican republic', 'early-demographic dividend', 'east asia & pacific', 'east asia & pacific (excluding high income)', 'east asia & pacific (ida & ibrd countries)', 'ecuador', 'egypt, arab rep.', 'el salvador', 'equatorial guinea', 'eritrea', 'estonia', 'eswatini', 'ethiopia', 'euro area', 'europe & central asia', 'europe & central asia (excluding high income)', 'europe & central asia (ida & ibrd countries)', 'european union', 'faroe islands', 'fiji', 'finland', 'fragile and conflict affected situations', 'france', 'french polynesia', 'gabon', 'gambia, the', 'georgia', 'germany', 'ghana', 'gibraltar', 'greece', 'greenland', 'grenada', 'guam', 'guatemala', 'guinea', 'guinea-bissau', 'guyana', 'haiti', 'heavily indebted poor countries (hipc)', 'high income', 'honduras', 'hong kong sar, china', 'hungary', 'ibrd only', 'iceland', 'ida & ibrd total', 'ida blend', 'ida only', 'ida total', 'india', 'indonesia', 'iran, islamic rep.', 'iraq', 'ireland', 'isle of man', 'israel', 'italy', 'jamaica', 'japan', 'jordan', 'kazakhstan', 'kenya', 'kiribati', \"korea, dem. people's rep.\", 'korea, rep.', 'kosovo', 'kuwait', 'kyrgyz republic', 'lao pdr', 'late-demographic dividend', 'latin america & caribbean', 'latin america & caribbean (excluding high income)', 'latin america & the caribbean (ida & ibrd countries)', 'latvia', 'least developed countries: un classification', 'lebanon', 'lesotho', 'liberia', 'libya', 'liechtenstein', 'lithuania', 'low & middle income', 'low income', 'lower middle income', 'luxembourg', 'macao sar, china', 'madagascar', 'malawi', 'malaysia', 'maldives', 'mali', 'malta', 'marshall islands', 'mauritania', 'mauritius', 'mexico', 'micronesia, fed. sts.', 'middle east & north africa', 'middle east & north africa (excluding high income)', 'middle east & north africa (ida & ibrd countries)', 'middle income', 'moldova', 'monaco', 'mongolia', 'montenegro', 'morocco', 'mozambique', 'myanmar', 'namibia', 'nauru', 'nepal', 'netherlands', 'new caledonia', 'new zealand', 'nicaragua', 'niger', 'nigeria', 'north america', 'north macedonia', 'northern mariana islands', 'norway', 'oecd members', 'oman', 'other small states', 'pacific island small states', 'pakistan', 'palau', 'panama', 'papua new guinea', 'paraguay', 'peru', 'philippines', 'poland', 'portugal', 'post-demographic dividend', 'pre-demographic dividend', 'puerto rico', 'qatar', 'romania', 'russian federation', 'rwanda', 'samoa', 'san marino', 'sao tome and principe', 'saudi arabia', 'senegal', 'serbia', 'seychelles', 'sierra leone', 'singapore', 'sint maarten (dutch part)', 'slovak republic', 'slovenia', 'small states', 'solomon islands', 'somalia', 'south africa', 'south asia', 'south asia (ida & ibrd)', 'south sudan', 'spain', 'sri lanka', 'st. kitts and nevis', 'st. lucia', 'st. martin (french part)', 'st. vincent and the grenadines', 'sub-saharan africa', 'sub-saharan africa (excluding high income)', 'sub-saharan africa (ida & ibrd countries)', 'sudan', 'suriname', 'sweden', 'switzerland', 'syrian arab republic', 'tajikistan', 'tanzania', 'thailand', 'timor-leste', 'togo', 'tonga', 'trinidad and tobago', 'tunisia', 'turkiye', 'turkmenistan', 'turks and caicos islands', 'tuvalu', 'uganda', 'ukraine', 'united arab emirates', 'united kingdom', 'united states', 'upper middle income', 'uruguay', 'uzbekistan', 'vanuatu', 'venezuela, rb', 'viet nam', 'virgin islands (u.s.)', 'west bank and gaza', 'world', 'yemen, rep.', 'zambia', 'zimbabwe']\n",
      "Unmatched: []\n"
     ]
    }
   ],
   "source": [
    "\n",
    "\n",
    "import re\n",
    "from typing import List, Dict, Tuple\n",
    "\n",
    "def normalize_name(name: str) -> str:\n",
    "    name = name.strip().lower()\n",
    "    name = re.sub(r\"[^\\w]+\", \"_\", name)  # replaces any non-alphanumeric (incl. apostrophes) with \"_\"\n",
    "    return re.sub(r\"_+\", \"_\", name).strip(\"_\")\n",
    "\n",
    "def check_country_coverage(unique_keys: List[str], countries: Dict[str, Dict]) -> Tuple[List[str], List[str]]:\n",
    "    matched = []\n",
    "    unmatched = []\n",
    "\n",
    "    # Build a set of all normalized aliases\n",
    "    alias_map = set()\n",
    "    for entry in countries.values():\n",
    "        alias_map.update(normalize_name(alias) for alias in entry[\"aliases\"])\n",
    "\n",
    "    for raw_key in unique_keys:\n",
    "        normalized = normalize_name(raw_key)\n",
    "        if normalized in alias_map:\n",
    "            matched.append(raw_key)\n",
    "        else:\n",
    "            unmatched.append(raw_key)\n",
    "\n",
    "    return matched, unmatched\n",
    "\n",
    "\n",
    "\n",
    "\n",
    "unique_keys = ml_data[\"country\"].unique().tolist()\n",
    "\n",
    "countries = result_data.metadata.countries\n",
    "\n",
    "matched, unmatched = check_country_coverage(unique_keys, countries)\n",
    "\n",
    "print(\"Matched:\", matched)\n",
    "print(\"Unmatched:\", unmatched)\n",
    "\n",
    "\n"
   ]
  },
  {
   "cell_type": "code",
   "execution_count": null,
   "metadata": {},
   "outputs": [],
   "source": []
  }
 ],
 "metadata": {
  "kernelspec": {
   "display_name": "venv",
   "language": "python",
   "name": "python3"
  },
  "language_info": {
   "codemirror_mode": {
    "name": "ipython",
    "version": 3
   },
   "file_extension": ".py",
   "mimetype": "text/x-python",
   "name": "python",
   "nbconvert_exporter": "python",
   "pygments_lexer": "ipython3",
   "version": "3.10.12"
  }
 },
 "nbformat": 4,
 "nbformat_minor": 2
}
